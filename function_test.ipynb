{
 "cells": [
  {
   "cell_type": "markdown",
   "metadata": {
    "toc": "true"
   },
   "source": [
    "# Table of Contents\n",
    " <p><div class=\"lev1 toc-item\"><a href=\"#1-function-test----函数测试\" data-toc-modified-id=\"1-function-test----函数测试-1\"><span class=\"toc-item-num\">1&nbsp;&nbsp;</span>1 function test -- 函数测试</a></div><div class=\"lev2 toc-item\"><a href=\"#1.1-函数返回多个值\" data-toc-modified-id=\"1.1-函数返回多个值-11\"><span class=\"toc-item-num\">1.1&nbsp;&nbsp;</span>1.1 函数返回多个值</a></div><div class=\"lev2 toc-item\"><a href=\"#1.2-函数作为生成器\" data-toc-modified-id=\"1.2-函数作为生成器-12\"><span class=\"toc-item-num\">1.2&nbsp;&nbsp;</span>1.2 函数作为生成器</a></div><div class=\"lev3 toc-item\"><a href=\"#1.2.1-普通函数打印斐波那契数列\" data-toc-modified-id=\"1.2.1-普通函数打印斐波那契数列-121\"><span class=\"toc-item-num\">1.2.1&nbsp;&nbsp;</span>1.2.1 普通函数打印斐波那契数列</a></div><div class=\"lev3 toc-item\"><a href=\"#1.2.2-函数生成器打印斐波那契数列，添加关键字yield\" data-toc-modified-id=\"1.2.2-函数生成器打印斐波那契数列，添加关键字yield-122\"><span class=\"toc-item-num\">1.2.2&nbsp;&nbsp;</span>1.2.2 函数生成器打印斐波那契数列，添加关键字yield</a></div><div class=\"lev3 toc-item\"><a href=\"#1.2.3-捕获StopIteration错误，拿返回值\" data-toc-modified-id=\"1.2.3-捕获StopIteration错误，拿返回值-123\"><span class=\"toc-item-num\">1.2.3&nbsp;&nbsp;</span>1.2.3 捕获StopIteration错误，拿返回值</a></div><div class=\"lev3 toc-item\"><a href=\"#1.2.4-测试-杨辉三角，用生成器实现，打印如下输出：\" data-toc-modified-id=\"1.2.4-测试-杨辉三角，用生成器实现，打印如下输出：-124\"><span class=\"toc-item-num\">1.2.4&nbsp;&nbsp;</span>1.2.4 测试-杨辉三角，用生成器实现，打印如下输出：</a></div><div class=\"lev2 toc-item\"><a href=\"#1.3-高阶函数\" data-toc-modified-id=\"1.3-高阶函数-13\"><span class=\"toc-item-num\">1.3&nbsp;&nbsp;</span>1.3 高阶函数</a></div><div class=\"lev3 toc-item\"><a href=\"#1.3.1-变量可以指向函数，函数的参数能接收变量，那么一个函数就可以接收另一个函数作为参数，这种函数就称之为高阶函数\" data-toc-modified-id=\"1.3.1-变量可以指向函数，函数的参数能接收变量，那么一个函数就可以接收另一个函数作为参数，这种函数就称之为高阶函数-131\"><span class=\"toc-item-num\">1.3.1&nbsp;&nbsp;</span>1.3.1 变量可以指向函数，函数的参数能接收变量，那么一个函数就可以接收另一个函数作为参数，这种函数就称之为高阶函数</a></div><div class=\"lev3 toc-item\"><a href=\"#1.3.2-改进-可变参数\" data-toc-modified-id=\"1.3.2-改进-可变参数-132\"><span class=\"toc-item-num\">1.3.2&nbsp;&nbsp;</span>1.3.2 改进-可变参数</a></div><div class=\"lev2 toc-item\"><a href=\"#1.4-map-reduce\" data-toc-modified-id=\"1.4-map-reduce-14\"><span class=\"toc-item-num\">1.4&nbsp;&nbsp;</span>1.4 map-reduce</a></div><div class=\"lev3 toc-item\"><a href=\"#1.4.1-map就像上面的可变参数实现那样，将函数作为参数传递，将函数作用在一个iterator如List上，返回一个iterator\" data-toc-modified-id=\"1.4.1-map就像上面的可变参数实现那样，将函数作为参数传递，将函数作用在一个iterator如List上，返回一个iterator-141\"><span class=\"toc-item-num\">1.4.1&nbsp;&nbsp;</span>1.4.1 map就像上面的可变参数实现那样，将函数作为参数传递，将函数作用在一个iterator如List上，返回一个iterator</a></div><div class=\"lev3 toc-item\"><a href=\"#1.4.2-reduce把一个函数作用在一个序列[x1,-x2,-x3,-...]上\" data-toc-modified-id=\"1.4.2-reduce把一个函数作用在一个序列[x1,-x2,-x3,-...]上-142\"><span class=\"toc-item-num\">1.4.2&nbsp;&nbsp;</span>1.4.2 reduce把一个函数作用在一个序列[x1, x2, x3, ...]上</a></div><div class=\"lev3 toc-item\"><a href=\"#1.4.3-改进-因为str也是序列，配合map写一个转换str为int的函数：\" data-toc-modified-id=\"1.4.3-改进-因为str也是序列，配合map写一个转换str为int的函数：-143\"><span class=\"toc-item-num\">1.4.3&nbsp;&nbsp;</span>1.4.3 改进-因为str也是序列，配合map写一个转换str为int的函数：</a></div><div class=\"lev3 toc-item\"><a href=\"#1.4.4-测试-利用map()函数，把用户输入的不规范的英文名字，变为首字母大写，其他小写的规范名字。\" data-toc-modified-id=\"1.4.4-测试-利用map()函数，把用户输入的不规范的英文名字，变为首字母大写，其他小写的规范名字。-144\"><span class=\"toc-item-num\">1.4.4&nbsp;&nbsp;</span>1.4.4 测试-利用map()函数，把用户输入的不规范的英文名字，变为首字母大写，其他小写的规范名字。</a></div><div class=\"lev3 toc-item\"><a href=\"#1.4.5-测试-Python提供的sum()函数可以接受一个list并求和，请编写一个prod()函数，可以接受一个list并利用reduce()求积：\" data-toc-modified-id=\"1.4.5-测试-Python提供的sum()函数可以接受一个list并求和，请编写一个prod()函数，可以接受一个list并利用reduce()求积：-145\"><span class=\"toc-item-num\">1.4.5&nbsp;&nbsp;</span>1.4.5 测试-Python提供的sum()函数可以接受一个list并求和，请编写一个prod()函数，可以接受一个list并利用reduce()求积：</a></div><div class=\"lev3 toc-item\"><a href=\"#1.4.6-测试-利用map和reduce编写一个str2float函数，把字符串'123.456'转换成浮点数123.456：\" data-toc-modified-id=\"1.4.6-测试-利用map和reduce编写一个str2float函数，把字符串'123.456'转换成浮点数123.456：-146\"><span class=\"toc-item-num\">1.4.6&nbsp;&nbsp;</span>1.4.6 测试-利用map和reduce编写一个str2float函数，把字符串'123.456'转换成浮点数123.456：</a></div><div class=\"lev2 toc-item\"><a href=\"#1.5-filter过滤器\" data-toc-modified-id=\"1.5-filter过滤器-15\"><span class=\"toc-item-num\">1.5&nbsp;&nbsp;</span>1.5 filter过滤器</a></div><div class=\"lev3 toc-item\"><a href=\"#1.5.1-利用filter在一个list里面删除偶数，保留奇数\" data-toc-modified-id=\"1.5.1-利用filter在一个list里面删除偶数，保留奇数-151\"><span class=\"toc-item-num\">1.5.1&nbsp;&nbsp;</span>1.5.1 利用filter在一个list里面删除偶数，保留奇数</a></div><div class=\"lev3 toc-item\"><a href=\"#1.5.2-测试-利用filter求素数\" data-toc-modified-id=\"1.5.2-测试-利用filter求素数-152\"><span class=\"toc-item-num\">1.5.2&nbsp;&nbsp;</span>1.5.2 测试-利用filter求素数</a></div><div class=\"lev3 toc-item\"><a href=\"#1.5.3-测试-回文数，回文数是指从左向右读和从右向左读都是一样的数，例如12321，909。请利用filter()滤掉非回数：\" data-toc-modified-id=\"1.5.3-测试-回文数，回文数是指从左向右读和从右向左读都是一样的数，例如12321，909。请利用filter()滤掉非回数：-153\"><span class=\"toc-item-num\">1.5.3&nbsp;&nbsp;</span>1.5.3 测试-回文数，回文数是指从左向右读和从右向左读都是一样的数，例如12321，909。请利用filter()滤掉非回数：</a></div><div class=\"lev2 toc-item\"><a href=\"#1.6-sorted函数\" data-toc-modified-id=\"1.6-sorted函数-16\"><span class=\"toc-item-num\">1.6&nbsp;&nbsp;</span>1.6 sorted函数</a></div><div class=\"lev3 toc-item\"><a href=\"#1.6.1-测试-假设我们用一组tuple表示学生名字和成绩，请用sorted()对下述列表分别按名字排序：\" data-toc-modified-id=\"1.6.1-测试-假设我们用一组tuple表示学生名字和成绩，请用sorted()对下述列表分别按名字排序：-161\"><span class=\"toc-item-num\">1.6.1&nbsp;&nbsp;</span>1.6.1 测试-假设我们用一组tuple表示学生名字和成绩，请用sorted()对下述列表分别按名字排序：</a></div>"
   ]
  },
  {
   "cell_type": "markdown",
   "metadata": {},
   "source": [
    "# 1 function test -- 函数测试"
   ]
  },
  {
   "cell_type": "markdown",
   "metadata": {},
   "source": [
    "## 1.1 函数返回多个值"
   ]
  },
  {
   "cell_type": "code",
   "execution_count": 1,
   "metadata": {
    "collapsed": true
   },
   "outputs": [],
   "source": [
    "import math"
   ]
  },
  {
   "cell_type": "code",
   "execution_count": 2,
   "metadata": {
    "collapsed": true
   },
   "outputs": [],
   "source": [
    "def move(x, y, step, angle = 0):\n",
    "    mx = x + step * math.cos(angle)\n",
    "    my = y - step * math.sin(angle)\n",
    "    return mx, my"
   ]
  },
  {
   "cell_type": "code",
   "execution_count": 3,
   "metadata": {
    "collapsed": false
   },
   "outputs": [
    {
     "name": "stdout",
     "output_type": "stream",
     "text": [
      "151.96152422706632 70.0\n"
     ]
    }
   ],
   "source": [
    "x, y = move(100, 100, 60, math.pi/6)\n",
    "print(x, y)"
   ]
  },
  {
   "cell_type": "markdown",
   "metadata": {},
   "source": [
    "但其实这只是一种假象，Python函数返回的仍然是单一值,一个元组"
   ]
  },
  {
   "cell_type": "code",
   "execution_count": 4,
   "metadata": {
    "collapsed": false
   },
   "outputs": [
    {
     "name": "stdout",
     "output_type": "stream",
     "text": [
      "(151.96152422706632, 70.0)\n"
     ]
    }
   ],
   "source": [
    "r = move(100, 100, 60, math.pi / 6)\n",
    "print(r)"
   ]
  },
  {
   "cell_type": "markdown",
   "metadata": {},
   "source": [
    "> \n",
    "* 返回值是一个tuple. 在语法上，返回一个tuple可以省略括号\n",
    "* 而多个变量可以同时接收一个tuple，按位置赋给对应的值\n",
    "* 所以，Python的函数返回多值其实就是返回一个tuple，但写起来更方便。。"
   ]
  },
  {
   "cell_type": "markdown",
   "metadata": {},
   "source": [
    "## 1.2 函数作为生成器"
   ]
  },
  {
   "cell_type": "markdown",
   "metadata": {},
   "source": [
    "### 1.2.1 普通函数打印斐波那契数列"
   ]
  },
  {
   "cell_type": "code",
   "execution_count": 5,
   "metadata": {
    "collapsed": true
   },
   "outputs": [],
   "source": [
    "def fib(num):\n",
    "    n, a, b = 0, 0, 1\n",
    "    while n < num:\n",
    "        print(b)\n",
    "        a, b = b, a+b\n",
    "        n += 1\n",
    "    return 'done'"
   ]
  },
  {
   "cell_type": "code",
   "execution_count": 6,
   "metadata": {
    "collapsed": false
   },
   "outputs": [
    {
     "name": "stdout",
     "output_type": "stream",
     "text": [
      "1\n",
      "1\n",
      "2\n",
      "3\n",
      "5\n",
      "8\n",
      "13\n",
      "21\n",
      "34\n",
      "55\n"
     ]
    },
    {
     "data": {
      "text/plain": [
       "'done'"
      ]
     },
     "execution_count": 6,
     "metadata": {},
     "output_type": "execute_result"
    }
   ],
   "source": [
    "fib(10)"
   ]
  },
  {
   "cell_type": "markdown",
   "metadata": {},
   "source": [
    "### 1.2.2 函数生成器打印斐波那契数列，添加关键字yield"
   ]
  },
  {
   "cell_type": "code",
   "execution_count": 13,
   "metadata": {
    "collapsed": true
   },
   "outputs": [],
   "source": [
    "def _fib(num):\n",
    "    n, a, b = 0, 0, 1\n",
    "    while n < num:\n",
    "        yield (b) # yield\n",
    "        a, b = b, a+b\n",
    "        n = n+1\n",
    "    return 'I\\'m return value'"
   ]
  },
  {
   "cell_type": "code",
   "execution_count": 14,
   "metadata": {
    "collapsed": true
   },
   "outputs": [],
   "source": [
    "f = _fib(10)"
   ]
  },
  {
   "cell_type": "code",
   "execution_count": 15,
   "metadata": {
    "collapsed": false
   },
   "outputs": [
    {
     "name": "stdout",
     "output_type": "stream",
     "text": [
      "1\n",
      "1\n",
      "2\n",
      "3\n",
      "5\n",
      "8\n",
      "13\n",
      "21\n",
      "34\n",
      "55\n"
     ]
    }
   ],
   "source": [
    "for x in f:\n",
    "    print(x)"
   ]
  },
  {
   "cell_type": "markdown",
   "metadata": {},
   "source": [
    "> \n",
    "* 如果一个函数定义中包含yield关键字，那么这个函数就不再是一个普通函数，而是一个generator\n",
    "* generator和函数的执行流程不一样。函数是顺序执行，遇到return语句或者最后一行函数语句就返回。\n",
    "* 而变成generator的函数，在每次调用next()的时候执行，遇到yield语句返回，再次执行时从上次返回的yield语句处继续执行\n",
    "* 把函数改成generator后，我们基本上从来不会用next()来获取下一个返回值，而是直接使用for循环来迭代\n",
    "* 但是用for循环调用generator时，发现拿不到generator的return语句的返回值。\n",
    "* 如果想要拿到返回值，必须捕获StopIteration错误，返回值包含在StopIteration的value中"
   ]
  },
  {
   "cell_type": "markdown",
   "metadata": {},
   "source": [
    "### 1.2.3 捕获StopIteration错误，拿返回值"
   ]
  },
  {
   "cell_type": "code",
   "execution_count": 16,
   "metadata": {
    "collapsed": true
   },
   "outputs": [],
   "source": [
    "f = _fib(10)"
   ]
  },
  {
   "cell_type": "code",
   "execution_count": 17,
   "metadata": {
    "collapsed": false
   },
   "outputs": [
    {
     "name": "stdout",
     "output_type": "stream",
     "text": [
      "f: 1\n",
      "f: 1\n",
      "f: 2\n",
      "f: 3\n",
      "f: 5\n",
      "f: 8\n",
      "f: 13\n",
      "f: 21\n",
      "f: 34\n",
      "f: 55\n",
      "return value: I'm return value\n"
     ]
    }
   ],
   "source": [
    "while True:\n",
    "    try:\n",
    "        x = next(f)\n",
    "        print('f:', x)\n",
    "    except StopIteration as e:\n",
    "        print('return value:', e.value)\n",
    "        break"
   ]
  },
  {
   "cell_type": "markdown",
   "metadata": {},
   "source": [
    "### 1.2.4 测试-杨辉三角，用生成器实现，打印如下输出：\n",
    "> \n",
    "[1]\n",
    ">\n",
    "[1, 1]\n",
    ">\n",
    "[1, 2, 1]\n",
    ">\n",
    "[1, 3, 3, 1]\n",
    ">\n",
    "[1, 4, 6, 4, 1]\n",
    ">\n",
    "[1, 5, 10, 10, 5, 1]\n",
    ">\n",
    "[1, 6, 15, 20, 15, 6, 1]\n",
    ">\n",
    "[1, 7, 21, 35, 35, 21, 7, 1]\n",
    ">\n",
    "[1, 8, 28, 56, 70, 56, 28, 8, 1]\n",
    ">\n",
    "[1, 9, 36, 84, 126, 126, 84, 36, 9, 1]"
   ]
  },
  {
   "cell_type": "code",
   "execution_count": 18,
   "metadata": {
    "collapsed": true
   },
   "outputs": [],
   "source": [
    "def triangles():\n",
    "    L = [1]\n",
    "    a = 1\n",
    "    while True:\n",
    "        if a == 1:\n",
    "            yield L\n",
    "        else:\n",
    "            L = [L[i-1] + L[i] for i in range(1, a-1)]  # 如果range后面的参数小于等于前面的参数，则为空集\n",
    "            L = [1] + L + [1]\n",
    "            yield L\n",
    "        a += 1"
   ]
  },
  {
   "cell_type": "code",
   "execution_count": 19,
   "metadata": {
    "collapsed": false
   },
   "outputs": [
    {
     "name": "stdout",
     "output_type": "stream",
     "text": [
      "[1]\n",
      "[1, 1]\n",
      "[1, 2, 1]\n",
      "[1, 3, 3, 1]\n",
      "[1, 4, 6, 4, 1]\n",
      "[1, 5, 10, 10, 5, 1]\n",
      "[1, 6, 15, 20, 15, 6, 1]\n",
      "[1, 7, 21, 35, 35, 21, 7, 1]\n",
      "[1, 8, 28, 56, 70, 56, 28, 8, 1]\n",
      "[1, 9, 36, 84, 126, 126, 84, 36, 9, 1]\n"
     ]
    }
   ],
   "source": [
    "n = 0\n",
    "for t in triangles():\n",
    "    print(t)\n",
    "    n = n + 1\n",
    "    if n == 10:\n",
    "        break"
   ]
  },
  {
   "cell_type": "markdown",
   "metadata": {},
   "source": [
    "> \n",
    "* 凡是可作用于for循环的对象都是Iterable（可迭代）类型\n",
    "* 凡是可作用于next()函数的对象都是Iterator（迭代器）类型，它们表示一个惰性计算的序列\n",
    "* 集合数据类型如list、dict、str等是Iterable但不是Iterator，不过可以通过iter()函数获得一个Iterator对象"
   ]
  },
  {
   "cell_type": "markdown",
   "metadata": {},
   "source": [
    "## 1.3 高阶函数"
   ]
  },
  {
   "cell_type": "markdown",
   "metadata": {},
   "source": [
    "### 1.3.1 变量可以指向函数，函数的参数能接收变量，那么一个函数就可以接收另一个函数作为参数，这种函数就称之为高阶函数"
   ]
  },
  {
   "cell_type": "code",
   "execution_count": 20,
   "metadata": {
    "collapsed": true
   },
   "outputs": [],
   "source": [
    "def add(x, y, f):\n",
    "    return f(x) + f(y)"
   ]
  },
  {
   "cell_type": "code",
   "execution_count": 22,
   "metadata": {
    "collapsed": false
   },
   "outputs": [
    {
     "name": "stdout",
     "output_type": "stream",
     "text": [
      "|-5| + |6| =  11\n"
     ]
    }
   ],
   "source": [
    "print('|-5| + |6| = ', add(-5, 6, abs))"
   ]
  },
  {
   "cell_type": "markdown",
   "metadata": {},
   "source": [
    "### 1.3.2 改进-可变参数"
   ]
  },
  {
   "cell_type": "code",
   "execution_count": 23,
   "metadata": {
    "collapsed": true
   },
   "outputs": [],
   "source": [
    "def ChangableParameterFunction(x = [], *f):\n",
    "    print([_f(_x) for _x in x for _f in f])"
   ]
  },
  {
   "cell_type": "code",
   "execution_count": 24,
   "metadata": {
    "collapsed": false
   },
   "outputs": [
    {
     "name": "stdout",
     "output_type": "stream",
     "text": [
      "[1.0, 1, 2.0, 4, 3.0, 9, 4.0, 16]\n"
     ]
    }
   ],
   "source": [
    "ChangableParameterFunction([1, 4, 9, 16], math.sqrt , abs)"
   ]
  },
  {
   "cell_type": "markdown",
   "metadata": {},
   "source": [
    "## 1.4 map-reduce"
   ]
  },
  {
   "cell_type": "markdown",
   "metadata": {},
   "source": [
    "### 1.4.1 map就像上面的可变参数实现那样，将函数作为参数传递，将函数作用在一个iterator如List上，返回一个iterator"
   ]
  },
  {
   "cell_type": "code",
   "execution_count": 25,
   "metadata": {
    "collapsed": true
   },
   "outputs": [],
   "source": [
    "def f(x):\n",
    "    return x*x"
   ]
  },
  {
   "cell_type": "code",
   "execution_count": 26,
   "metadata": {
    "collapsed": false
   },
   "outputs": [
    {
     "name": "stdout",
     "output_type": "stream",
     "text": [
      "[1, 4, 9, 16]\n"
     ]
    }
   ],
   "source": [
    "print(list(map(f, [1, 2, 3, 4])))"
   ]
  },
  {
   "cell_type": "markdown",
   "metadata": {},
   "source": [
    "### 1.4.2 reduce把一个函数作用在一个序列[x1, x2, x3, ...]上\n",
    "* 这个函数必须接收两个参数，reduce把结果继续和序列的下一个元素做累积计算，其效果就是：reduce(f, [x1, x2, x3, x4]) = f(f(f(x1, x2), x3), x4)"
   ]
  },
  {
   "cell_type": "code",
   "execution_count": 27,
   "metadata": {
    "collapsed": true
   },
   "outputs": [],
   "source": [
    "from functools import reduce"
   ]
  },
  {
   "cell_type": "code",
   "execution_count": 28,
   "metadata": {
    "collapsed": true
   },
   "outputs": [],
   "source": [
    "def f(x, y):\n",
    "    return x*10 + y"
   ]
  },
  {
   "cell_type": "code",
   "execution_count": 29,
   "metadata": {
    "collapsed": false
   },
   "outputs": [
    {
     "name": "stdout",
     "output_type": "stream",
     "text": [
      "13579\n"
     ]
    }
   ],
   "source": [
    "print(reduce(f, [1, 3, 5, 7, 9]))"
   ]
  },
  {
   "cell_type": "markdown",
   "metadata": {},
   "source": [
    "> 上面将单个数1,3,5,7,9变成13579"
   ]
  },
  {
   "cell_type": "markdown",
   "metadata": {},
   "source": [
    "### 1.4.3 改进-因为str也是序列，配合map写一个转换str为int的函数："
   ]
  },
  {
   "cell_type": "code",
   "execution_count": 30,
   "metadata": {
    "collapsed": true
   },
   "outputs": [],
   "source": [
    "def f(x, y):\n",
    "    return x*10 +y"
   ]
  },
  {
   "cell_type": "code",
   "execution_count": 31,
   "metadata": {
    "collapsed": true
   },
   "outputs": [],
   "source": [
    "def char2num(s):\n",
    "    d = {'0': 0, '1': 1, '2': 2, '3': 3, '4': 4, '5': 5, '6': 6, '7': 7, '8': 8, '9': 9}\n",
    "    return d[s]"
   ]
  },
  {
   "cell_type": "code",
   "execution_count": 32,
   "metadata": {
    "collapsed": false
   },
   "outputs": [
    {
     "data": {
      "text/plain": [
       "13579"
      ]
     },
     "execution_count": 32,
     "metadata": {},
     "output_type": "execute_result"
    }
   ],
   "source": [
    "reduce(f, map(char2num, '13579'))"
   ]
  },
  {
   "cell_type": "markdown",
   "metadata": {},
   "source": [
    "* 再改进-整理成一个函数："
   ]
  },
  {
   "cell_type": "code",
   "execution_count": 33,
   "metadata": {
    "collapsed": true
   },
   "outputs": [],
   "source": [
    "def str2int(s):\n",
    "    def f(x, y):\n",
    "        return x * 10 + y\n",
    "    def char2num(s):\n",
    "        d = {'0': 0, '1': 1, '2': 2, '3': 3, '4': 4, '5': 5, '6': 6, '7': 7, '8': 8, '9': 9}\n",
    "        return d[s]\n",
    "    return reduce(f, map(char2num, s))"
   ]
  },
  {
   "cell_type": "code",
   "execution_count": 34,
   "metadata": {
    "collapsed": false
   },
   "outputs": [
    {
     "name": "stdout",
     "output_type": "stream",
     "text": [
      "13579\n"
     ]
    }
   ],
   "source": [
    "print(str2int('13579'))"
   ]
  },
  {
   "cell_type": "markdown",
   "metadata": {},
   "source": [
    "### 1.4.4 测试-利用map()函数，把用户输入的不规范的英文名字，变为首字母大写，其他小写的规范名字。"
   ]
  },
  {
   "cell_type": "code",
   "execution_count": 35,
   "metadata": {
    "collapsed": true
   },
   "outputs": [],
   "source": [
    "def normalize(name):\n",
    "    return name[0].upper() + name[1:].lower()"
   ]
  },
  {
   "cell_type": "code",
   "execution_count": 36,
   "metadata": {
    "collapsed": false
   },
   "outputs": [
    {
     "name": "stdout",
     "output_type": "stream",
     "text": [
      "['Adam', 'Lisa', 'Bart']\n"
     ]
    }
   ],
   "source": [
    "print(list(map(normalize, ['adam', 'LISA', 'barT'])))"
   ]
  },
  {
   "cell_type": "markdown",
   "metadata": {},
   "source": [
    "### 1.4.5 测试-Python提供的sum()函数可以接受一个list并求和，请编写一个prod()函数，可以接受一个list并利用reduce()求积："
   ]
  },
  {
   "cell_type": "code",
   "execution_count": 37,
   "metadata": {
    "collapsed": true
   },
   "outputs": [],
   "source": [
    "def prod(l = []):\n",
    "    def mul(x, y):\n",
    "        return x * y\n",
    "    return reduce(mul, l)"
   ]
  },
  {
   "cell_type": "code",
   "execution_count": 38,
   "metadata": {
    "collapsed": false
   },
   "outputs": [
    {
     "name": "stdout",
     "output_type": "stream",
     "text": [
      "3 * 5 * 7 * 9 =  945\n"
     ]
    }
   ],
   "source": [
    "print('3 * 5 * 7 * 9 = ', prod([3, 5, 7, 9]))"
   ]
  },
  {
   "cell_type": "markdown",
   "metadata": {},
   "source": [
    "### 1.4.6 测试-利用map和reduce编写一个str2float函数，把字符串'123.456'转换成浮点数123.456："
   ]
  },
  {
   "cell_type": "code",
   "execution_count": 39,
   "metadata": {
    "collapsed": true
   },
   "outputs": [],
   "source": [
    "def str2float(s):\n",
    "    def char2num(s):\n",
    "        cnt = 0\n",
    "        d = {'0': 0, '1': 1, '2': 2, '3': 3, '4': 4, '5': 5, '6': 6, '7': 7, '8': 8, '9': 9}\n",
    "        return d[s]\n",
    "    def turn2int(x, y):\n",
    "        return x * 10 + y\n",
    "    def turn2float(x, y):\n",
    "        return x/10 + y\n",
    "    return reduce(turn2int, map(char2num, s[:s.find('.')])) + reduce(turn2float, map(char2num, s[::-1][:s.find('.')])) / 10"
   ]
  },
  {
   "cell_type": "code",
   "execution_count": 41,
   "metadata": {
    "collapsed": false
   },
   "outputs": [
    {
     "name": "stdout",
     "output_type": "stream",
     "text": [
      "<class 'float'> 123.456\n"
     ]
    }
   ],
   "source": [
    "print(type(str2float('123.456')), str2float('123.456'))"
   ]
  },
  {
   "cell_type": "markdown",
   "metadata": {},
   "source": [
    "## 1.5 filter过滤器\n",
    "* 和map()类似，filter()也接收一个函数和一个序列。\n",
    "* 和map()不同的是，filter()把传入的函数依次作用于每个元素，然后根据返回值是True还是False决定保留还是丢弃该元素。"
   ]
  },
  {
   "cell_type": "markdown",
   "metadata": {},
   "source": [
    "### 1.5.1 利用filter在一个list里面删除偶数，保留奇数"
   ]
  },
  {
   "cell_type": "code",
   "execution_count": 42,
   "metadata": {
    "collapsed": true
   },
   "outputs": [],
   "source": [
    "def remainOdd(x):\n",
    "    return x%2 == 1"
   ]
  },
  {
   "cell_type": "code",
   "execution_count": 43,
   "metadata": {
    "collapsed": false
   },
   "outputs": [
    {
     "name": "stdout",
     "output_type": "stream",
     "text": [
      "[1, 2, 3, 4, 5, 6]--> [1, 3, 5]\n"
     ]
    }
   ],
   "source": [
    "print('[1, 2, 3, 4, 5, 6]-->', list(filter(remainOdd, [1, 2, 3, 4, 5, 6])))"
   ]
  },
  {
   "cell_type": "markdown",
   "metadata": {},
   "source": [
    "### 1.5.2 测试-利用filter求素数\n",
    "\n",
    "> \n",
    "计算素数的一个方法是埃氏筛法，它的算法理解起来非常简单：\n",
    "* 首先，列出从2开始的所有自然数，构造一个序列：2, 3, 4, 5, 6, 7, 8, 9, 10, 11, 12, 13, 14, 15, 16, 17, 18, 19, 20, ...\n",
    "* 取序列的第一个数2，它一定是素数，然后用2把序列的2的倍数筛掉：3, 5, 7, 9, 11, 13, 15, 17, 19, ...\n",
    "* 取新序列的第一个数3，它一定是素数，然后用3把序列的3的倍数筛掉：5, 7, 11, 13, 17, 19, ...\n",
    "* 取新序列的第一个数5，然后用5把序列的5的倍数筛掉：, ...\n",
    "* 不断筛下去，就可以得到所有的素数。"
   ]
  },
  {
   "cell_type": "markdown",
   "metadata": {},
   "source": [
    "* 用Python来实现这个算法，可以先构造一个从3开始的奇数序列：注意这是一个生成器，并且是一个无限序列。"
   ]
  },
  {
   "cell_type": "code",
   "execution_count": 44,
   "metadata": {
    "collapsed": true
   },
   "outputs": [],
   "source": [
    "def _odd_iter():\n",
    "    n = 1\n",
    "    while True:\n",
    "        n = n + 2\n",
    "        yield n"
   ]
  },
  {
   "cell_type": "markdown",
   "metadata": {},
   "source": [
    "* 最后，定义一个生成器，不断返回下一个素数：这个生成器先返回第一个素数2，然后，利用filter()不断产生筛选后的新的序列。"
   ]
  },
  {
   "cell_type": "code",
   "execution_count": 46,
   "metadata": {
    "collapsed": true
   },
   "outputs": [],
   "source": [
    "def primes():\n",
    "    yield 2\n",
    "    it = _odd_iter()  # 初始序列\n",
    "    # it_0:[3, 5, 7, 9, 11, 13, 15, 17, 19, ...]\n",
    "    while True:\n",
    "        n = next(it)  # 返回序列的第一个数\n",
    "        yield n\n",
    "        it = filter(lambda x : x%n > 0, it)  # 构造新序列\n",
    "        # it_1:[3(n), 5, 7, <9>, 11, 13, <15>, 17, 19, ...]\n",
    "        # it_2:[3, 5(n), 7, <9>, 11, 13, <15>, 17, 19, <21>, 23, <25>, <27>, 29, ...]\n",
    "        # ......\n",
    "    return 'done'"
   ]
  },
  {
   "cell_type": "markdown",
   "metadata": {},
   "source": [
    "* 由于primes()也是一个无限序列，所以调用时需要设置一个退出循环的条件："
   ]
  },
  {
   "cell_type": "code",
   "execution_count": 47,
   "metadata": {
    "collapsed": false
   },
   "outputs": [
    {
     "name": "stdout",
     "output_type": "stream",
     "text": [
      "2\n",
      "3\n",
      "5\n",
      "7\n",
      "9\n",
      "11\n",
      "13\n",
      "15\n",
      "17\n",
      "19\n",
      "21\n",
      "23\n",
      "25\n",
      "27\n",
      "29\n",
      "31\n",
      "33\n",
      "35\n",
      "37\n",
      "39\n",
      "41\n",
      "43\n",
      "45\n",
      "47\n",
      "49\n",
      "51\n",
      "53\n",
      "55\n",
      "57\n",
      "59\n",
      "61\n",
      "63\n",
      "65\n",
      "67\n",
      "69\n",
      "71\n",
      "73\n",
      "75\n",
      "77\n",
      "79\n",
      "81\n",
      "83\n",
      "85\n",
      "87\n",
      "89\n",
      "91\n",
      "93\n",
      "95\n",
      "97\n",
      "99\n",
      "101\n",
      "103\n",
      "105\n",
      "107\n",
      "109\n",
      "111\n",
      "113\n",
      "115\n",
      "117\n",
      "119\n",
      "121\n",
      "123\n",
      "125\n",
      "127\n",
      "129\n",
      "131\n",
      "133\n",
      "135\n",
      "137\n",
      "139\n",
      "141\n",
      "143\n",
      "145\n",
      "147\n",
      "149\n",
      "151\n",
      "153\n",
      "155\n",
      "157\n",
      "159\n",
      "161\n",
      "163\n",
      "165\n",
      "167\n",
      "169\n",
      "171\n",
      "173\n",
      "175\n",
      "177\n",
      "179\n",
      "181\n",
      "183\n",
      "185\n",
      "187\n",
      "189\n",
      "191\n",
      "193\n",
      "195\n",
      "197\n",
      "199\n",
      "201\n",
      "203\n",
      "205\n",
      "207\n",
      "209\n",
      "211\n",
      "213\n",
      "215\n",
      "217\n",
      "219\n",
      "221\n",
      "223\n",
      "225\n",
      "227\n",
      "229\n",
      "231\n",
      "233\n",
      "235\n",
      "237\n",
      "239\n",
      "241\n",
      "243\n",
      "245\n",
      "247\n",
      "249\n",
      "251\n",
      "253\n",
      "255\n",
      "257\n",
      "259\n",
      "261\n",
      "263\n",
      "265\n",
      "267\n",
      "269\n",
      "271\n",
      "273\n",
      "275\n",
      "277\n",
      "279\n",
      "281\n",
      "283\n",
      "285\n",
      "287\n",
      "289\n",
      "291\n",
      "293\n",
      "295\n",
      "297\n",
      "299\n",
      "301\n",
      "303\n",
      "305\n",
      "307\n",
      "309\n",
      "311\n",
      "313\n",
      "315\n",
      "317\n",
      "319\n",
      "321\n",
      "323\n",
      "325\n",
      "327\n",
      "329\n",
      "331\n",
      "333\n",
      "335\n",
      "337\n",
      "339\n",
      "341\n",
      "343\n",
      "345\n",
      "347\n",
      "349\n",
      "351\n",
      "353\n",
      "355\n",
      "357\n",
      "359\n",
      "361\n",
      "363\n",
      "365\n",
      "367\n",
      "369\n",
      "371\n",
      "373\n",
      "375\n",
      "377\n",
      "379\n",
      "381\n",
      "383\n",
      "385\n",
      "387\n",
      "389\n",
      "391\n",
      "393\n",
      "395\n",
      "397\n",
      "399\n",
      "401\n",
      "403\n",
      "405\n",
      "407\n",
      "409\n",
      "411\n",
      "413\n",
      "415\n",
      "417\n",
      "419\n",
      "421\n",
      "423\n",
      "425\n",
      "427\n",
      "429\n",
      "431\n",
      "433\n",
      "435\n",
      "437\n",
      "439\n",
      "441\n",
      "443\n",
      "445\n",
      "447\n",
      "449\n",
      "451\n",
      "453\n",
      "455\n",
      "457\n",
      "459\n",
      "461\n",
      "463\n",
      "465\n",
      "467\n",
      "469\n",
      "471\n",
      "473\n",
      "475\n",
      "477\n",
      "479\n",
      "481\n",
      "483\n",
      "485\n",
      "487\n",
      "489\n",
      "491\n",
      "493\n",
      "495\n",
      "497\n",
      "499\n",
      "501\n",
      "503\n",
      "505\n",
      "507\n",
      "509\n",
      "511\n",
      "513\n",
      "515\n",
      "517\n",
      "519\n",
      "521\n",
      "523\n",
      "525\n",
      "527\n",
      "529\n",
      "531\n",
      "533\n",
      "535\n",
      "537\n",
      "539\n",
      "541\n",
      "543\n",
      "545\n",
      "547\n",
      "549\n",
      "551\n",
      "553\n",
      "555\n",
      "557\n",
      "559\n",
      "561\n",
      "563\n",
      "565\n",
      "567\n",
      "569\n",
      "571\n",
      "573\n",
      "575\n",
      "577\n",
      "579\n",
      "581\n",
      "583\n",
      "585\n",
      "587\n",
      "589\n",
      "591\n",
      "593\n",
      "595\n",
      "597\n",
      "599\n",
      "601\n",
      "603\n",
      "605\n",
      "607\n",
      "609\n",
      "611\n",
      "613\n",
      "615\n",
      "617\n",
      "619\n",
      "621\n",
      "623\n",
      "625\n",
      "627\n",
      "629\n",
      "631\n",
      "633\n",
      "635\n",
      "637\n",
      "639\n",
      "641\n",
      "643\n",
      "645\n",
      "647\n",
      "649\n",
      "651\n",
      "653\n",
      "655\n",
      "657\n",
      "659\n",
      "661\n",
      "663\n",
      "665\n",
      "667\n",
      "669\n",
      "671\n",
      "673\n",
      "675\n",
      "677\n",
      "679\n",
      "681\n",
      "683\n",
      "685\n",
      "687\n",
      "689\n",
      "691\n",
      "693\n",
      "695\n",
      "697\n",
      "699\n",
      "701\n",
      "703\n",
      "705\n",
      "707\n",
      "709\n",
      "711\n",
      "713\n",
      "715\n",
      "717\n",
      "719\n",
      "721\n",
      "723\n",
      "725\n",
      "727\n",
      "729\n",
      "731\n",
      "733\n",
      "735\n",
      "737\n",
      "739\n",
      "741\n",
      "743\n",
      "745\n",
      "747\n",
      "749\n",
      "751\n",
      "753\n",
      "755\n",
      "757\n",
      "759\n",
      "761\n",
      "763\n",
      "765\n",
      "767\n",
      "769\n",
      "771\n",
      "773\n",
      "775\n",
      "777\n",
      "779\n",
      "781\n",
      "783\n",
      "785\n",
      "787\n",
      "789\n",
      "791\n",
      "793\n",
      "795\n",
      "797\n",
      "799\n",
      "801\n",
      "803\n",
      "805\n",
      "807\n",
      "809\n",
      "811\n",
      "813\n",
      "815\n",
      "817\n",
      "819\n",
      "821\n",
      "823\n",
      "825\n",
      "827\n",
      "829\n",
      "831\n",
      "833\n",
      "835\n",
      "837\n",
      "839\n",
      "841\n",
      "843\n",
      "845\n",
      "847\n",
      "849\n",
      "851\n",
      "853\n",
      "855\n",
      "857\n",
      "859\n",
      "861\n",
      "863\n",
      "865\n",
      "867\n",
      "869\n",
      "871\n",
      "873\n",
      "875\n",
      "877\n",
      "879\n",
      "881\n",
      "883\n",
      "885\n",
      "887\n",
      "889\n",
      "891\n",
      "893\n",
      "895\n",
      "897\n",
      "899\n",
      "901\n",
      "903\n",
      "905\n",
      "907\n",
      "909\n",
      "911\n",
      "913\n",
      "915\n",
      "917\n",
      "919\n",
      "921\n",
      "923\n",
      "925\n",
      "927\n",
      "929\n",
      "931\n",
      "933\n",
      "935\n",
      "937\n",
      "939\n",
      "941\n",
      "943\n",
      "945\n",
      "947\n",
      "949\n",
      "951\n",
      "953\n",
      "955\n",
      "957\n",
      "959\n",
      "961\n",
      "963\n",
      "965\n",
      "967\n",
      "969\n",
      "971\n",
      "973\n",
      "975\n",
      "977\n",
      "979\n",
      "981\n",
      "983\n",
      "985\n",
      "987\n",
      "989\n",
      "991\n",
      "993\n",
      "995\n",
      "997\n",
      "999\n"
     ]
    }
   ],
   "source": [
    "for n in primes():\n",
    "    if n < 1000:\n",
    "        print(n)\n",
    "    else:\n",
    "        break"
   ]
  },
  {
   "cell_type": "markdown",
   "metadata": {},
   "source": [
    "### 1.5.3 测试-回文数，回文数是指从左向右读和从右向左读都是一样的数，例如12321，909。请利用filter()滤掉非回数："
   ]
  },
  {
   "cell_type": "code",
   "execution_count": 48,
   "metadata": {
    "collapsed": true
   },
   "outputs": [],
   "source": [
    "output = filter(lambda x: x > 10 and str(x) == str(x)[::-1], range(1, 1000))"
   ]
  },
  {
   "cell_type": "code",
   "execution_count": 49,
   "metadata": {
    "collapsed": false
   },
   "outputs": [
    {
     "name": "stdout",
     "output_type": "stream",
     "text": [
      "[11, 22, 33, 44, 55, 66, 77, 88, 99, 101, 111, 121, 131, 141, 151, 161, 171, 181, 191, 202, 212, 222, 232, 242, 252, 262, 272, 282, 292, 303, 313, 323, 333, 343, 353, 363, 373, 383, 393, 404, 414, 424, 434, 444, 454, 464, 474, 484, 494, 505, 515, 525, 535, 545, 555, 565, 575, 585, 595, 606, 616, 626, 636, 646, 656, 666, 676, 686, 696, 707, 717, 727, 737, 747, 757, 767, 777, 787, 797, 808, 818, 828, 838, 848, 858, 868, 878, 888, 898, 909, 919, 929, 939, 949, 959, 969, 979, 989, 999]\n"
     ]
    }
   ],
   "source": [
    "print(list(output))"
   ]
  },
  {
   "cell_type": "markdown",
   "metadata": {},
   "source": [
    "## 1.6 sorted函数\n",
    "* sorted()函数也是一个高阶函数，它还可以接收一个key函数来实现自定义的排序，例如按绝对值大小排序："
   ]
  },
  {
   "cell_type": "code",
   "execution_count": 50,
   "metadata": {
    "collapsed": false
   },
   "outputs": [
    {
     "name": "stdout",
     "output_type": "stream",
     "text": [
      "[5, 9, -12, -21, 36]\n"
     ]
    }
   ],
   "source": [
    "print(sorted([36, 5, -12, 9, -21], key=abs))"
   ]
  },
  {
   "cell_type": "markdown",
   "metadata": {},
   "source": [
    "### 1.6.1 测试-假设我们用一组tuple表示学生名字和成绩，请用sorted()对下述列表分别按名字排序："
   ]
  },
  {
   "cell_type": "markdown",
   "metadata": {},
   "source": [
    "* 以名字排序"
   ]
  },
  {
   "cell_type": "code",
   "execution_count": 51,
   "metadata": {
    "collapsed": false
   },
   "outputs": [
    {
     "name": "stdout",
     "output_type": "stream",
     "text": [
      "L = [('Bob', 75), ('Adam', 92), ('Bart', 66), ('Lisa', 88)]\n"
     ]
    }
   ],
   "source": [
    "L = [('Bob', 75), ('Adam', 92), ('Bart', 66), ('Lisa', 88)]\n",
    "print('L =',L)"
   ]
  },
  {
   "cell_type": "code",
   "execution_count": 52,
   "metadata": {
    "collapsed": true
   },
   "outputs": [],
   "source": [
    "def by_name(n):\n",
    "    return n[0]"
   ]
  },
  {
   "cell_type": "code",
   "execution_count": 53,
   "metadata": {
    "collapsed": false
   },
   "outputs": [
    {
     "name": "stdout",
     "output_type": "stream",
     "text": [
      "[('Adam', 92), ('Bart', 66), ('Bob', 75), ('Lisa', 88)]\n"
     ]
    }
   ],
   "source": [
    "print(sorted(L, key=by_name))"
   ]
  },
  {
   "cell_type": "markdown",
   "metadata": {},
   "source": [
    "* 再按成绩从高到低排序："
   ]
  },
  {
   "cell_type": "code",
   "execution_count": 54,
   "metadata": {
    "collapsed": true
   },
   "outputs": [],
   "source": [
    "def by_score(s):\n",
    "    return s[1]"
   ]
  },
  {
   "cell_type": "code",
   "execution_count": 55,
   "metadata": {
    "collapsed": false
   },
   "outputs": [
    {
     "name": "stdout",
     "output_type": "stream",
     "text": [
      "[('Bart', 66), ('Bob', 75), ('Lisa', 88), ('Adam', 92)]\n"
     ]
    }
   ],
   "source": [
    "print(sorted(L, key=by_score))"
   ]
  }
 ],
 "metadata": {
  "kernelspec": {
   "display_name": "Python 3",
   "language": "python",
   "name": "python3"
  },
  "language_info": {
   "codemirror_mode": {
    "name": "ipython",
    "version": 3
   },
   "file_extension": ".py",
   "mimetype": "text/x-python",
   "name": "python",
   "nbconvert_exporter": "python",
   "pygments_lexer": "ipython3",
   "version": "3.6.0"
  },
  "toc": {
   "colors": {
    "hover_highlight": "#DAA520",
    "running_highlight": "#FF0000",
    "selected_highlight": "#FFD700"
   },
   "moveMenuLeft": true,
   "nav_menu": {
    "height": "441px",
    "width": "252px"
   },
   "navigate_menu": true,
   "number_sections": false,
   "sideBar": true,
   "threshold": 4,
   "toc_cell": true,
   "toc_section_display": "block",
   "toc_window_display": true,
   "widenNotebook": false
  }
 },
 "nbformat": 4,
 "nbformat_minor": 2
}
