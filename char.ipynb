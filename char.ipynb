{
 "cells": [
  {
   "cell_type": "markdown",
   "metadata": {
    "toc": "true"
   },
   "source": [
    "# Table of Contents\n",
    " <p><div class=\"lev1 toc-item\"><a href=\"#char字符相关\" data-toc-modified-id=\"char字符相关-1\"><span class=\"toc-item-num\">1&nbsp;&nbsp;</span>char字符相关</a></div><div class=\"lev2 toc-item\"><a href=\"#1.1-ord函数获取字符的整数表示\" data-toc-modified-id=\"1.1-ord函数获取字符的整数表示-11\"><span class=\"toc-item-num\">1.1&nbsp;&nbsp;</span>1.1 ord函数获取字符的整数表示</a></div><div class=\"lev2 toc-item\"><a href=\"#1.2-chr函数转换编码为字符\" data-toc-modified-id=\"1.2-chr函数转换编码为字符-12\"><span class=\"toc-item-num\">1.2&nbsp;&nbsp;</span>1.2 chr函数转换编码为字符</a></div><div class=\"lev2 toc-item\"><a href=\"#1.3-编码\" data-toc-modified-id=\"1.3-编码-13\"><span class=\"toc-item-num\">1.3&nbsp;&nbsp;</span>1.3 编码</a></div><div class=\"lev3 toc-item\"><a href=\"#1.3.1-纯英文的str可以用ASCII编码为bytes\" data-toc-modified-id=\"1.3.1-纯英文的str可以用ASCII编码为bytes-131\"><span class=\"toc-item-num\">1.3.1&nbsp;&nbsp;</span>1.3.1 纯英文的str可以用ASCII编码为bytes</a></div><div class=\"lev3 toc-item\"><a href=\"#1.3.2-含有中文的str可以用UTF-8编码为bytes\" data-toc-modified-id=\"1.3.2-含有中文的str可以用UTF-8编码为bytes-132\"><span class=\"toc-item-num\">1.3.2&nbsp;&nbsp;</span>1.3.2 含有中文的str可以用UTF-8编码为bytes</a></div><div class=\"lev3 toc-item\"><a href=\"#1.3.3-如果我们从网络或磁盘上读取了字节流，那么读到的数据就是bytes。要把bytes变为str，就需要用decode()方法\" data-toc-modified-id=\"1.3.3-如果我们从网络或磁盘上读取了字节流，那么读到的数据就是bytes。要把bytes变为str，就需要用decode()方法-133\"><span class=\"toc-item-num\">1.3.3&nbsp;&nbsp;</span>1.3.3 如果我们从网络或磁盘上读取了字节流，那么读到的数据就是bytes。要把bytes变为str，就需要用decode()方法</a></div><div class=\"lev2 toc-item\"><a href=\"#1.4-格式化字符串\" data-toc-modified-id=\"1.4-格式化字符串-14\"><span class=\"toc-item-num\">1.4&nbsp;&nbsp;</span>1.4 格式化字符串</a></div><div class=\"lev3 toc-item\"><a href=\"#1.4.1-在Python中，采用的格式化方式和C语言是一致的，用%实现\" data-toc-modified-id=\"1.4.1-在Python中，采用的格式化方式和C语言是一致的，用%实现-141\"><span class=\"toc-item-num\">1.4.1&nbsp;&nbsp;</span>1.4.1 在Python中，采用的格式化方式和C语言是一致的，用%实现</a></div><div class=\"lev3 toc-item\"><a href=\"#1.4.2-格式化整数和浮点数还可以指定是否补0和整数与小数的位数：\" data-toc-modified-id=\"1.4.2-格式化整数和浮点数还可以指定是否补0和整数与小数的位数：-142\"><span class=\"toc-item-num\">1.4.2&nbsp;&nbsp;</span>1.4.2 格式化整数和浮点数还可以指定是否补0和整数与小数的位数：</a></div>"
   ]
  },
  {
   "cell_type": "markdown",
   "metadata": {},
   "source": [
    "# char字符相关"
   ]
  },
  {
   "cell_type": "markdown",
   "metadata": {},
   "source": [
    "## 1.1 ord函数获取字符的整数表示"
   ]
  },
  {
   "cell_type": "code",
   "execution_count": 1,
   "metadata": {
    "collapsed": false
   },
   "outputs": [
    {
     "name": "stdout",
     "output_type": "stream",
     "text": [
      "97\n"
     ]
    }
   ],
   "source": [
    "print(ord('a'))"
   ]
  },
  {
   "cell_type": "markdown",
   "metadata": {},
   "source": [
    "## 1.2 chr函数转换编码为字符"
   ]
  },
  {
   "cell_type": "code",
   "execution_count": 2,
   "metadata": {
    "collapsed": false
   },
   "outputs": [
    {
     "name": "stdout",
     "output_type": "stream",
     "text": [
      "A\n",
      "中\n"
     ]
    }
   ],
   "source": [
    "print(chr(65))\n",
    "print(chr(20013))"
   ]
  },
  {
   "cell_type": "markdown",
   "metadata": {},
   "source": [
    "## 1.3 编码\n",
    "> \n",
    "* 由于Python的字符串类型是str，在内存中以Unicode表示，一个字符对应若干个字节。\n",
    "* 如果要在网络上传输，或者保存到磁盘上，就需要把str变为以字节为单位的bytes。\n",
    "* Python对bytes类型的数据用带b前缀的单引号或双引号表示：x = b'ABC'"
   ]
  },
  {
   "cell_type": "markdown",
   "metadata": {},
   "source": [
    "### 1.3.1 纯英文的str可以用ASCII编码为bytes"
   ]
  },
  {
   "cell_type": "code",
   "execution_count": 3,
   "metadata": {
    "collapsed": false
   },
   "outputs": [
    {
     "name": "stdout",
     "output_type": "stream",
     "text": [
      "b'ABC'\n"
     ]
    }
   ],
   "source": [
    "print('ABC'.encode('ascii'))"
   ]
  },
  {
   "cell_type": "markdown",
   "metadata": {},
   "source": [
    "### 1.3.2 含有中文的str可以用UTF-8编码为bytes\n",
    "> * 含有中文的str无法用ASCII编码，因为中文编码的范围超过了ASCII编码的范围，Python会报错。"
   ]
  },
  {
   "cell_type": "code",
   "execution_count": 4,
   "metadata": {
    "collapsed": false
   },
   "outputs": [
    {
     "name": "stdout",
     "output_type": "stream",
     "text": [
      "b'\\xe4\\xb8\\xad\\xe6\\x96\\x87'\n"
     ]
    }
   ],
   "source": [
    "print('中文'.encode('utf-8'))"
   ]
  },
  {
   "cell_type": "markdown",
   "metadata": {},
   "source": [
    "### 1.3.3 如果我们从网络或磁盘上读取了字节流，那么读到的数据就是bytes。要把bytes变为str，就需要用decode()方法"
   ]
  },
  {
   "cell_type": "code",
   "execution_count": 5,
   "metadata": {
    "collapsed": false
   },
   "outputs": [
    {
     "name": "stdout",
     "output_type": "stream",
     "text": [
      "ABC\n",
      "中文\n"
     ]
    }
   ],
   "source": [
    "print(b'ABC'.decode('ascii'))\n",
    "print(b'\\xe4\\xb8\\xad\\xe6\\x96\\x87'.decode('utf-8'))"
   ]
  },
  {
   "cell_type": "markdown",
   "metadata": {},
   "source": [
    "## 1.4 格式化字符串"
   ]
  },
  {
   "cell_type": "markdown",
   "metadata": {},
   "source": [
    "### 1.4.1 在Python中，采用的格式化方式和C语言是一致的，用%实现"
   ]
  },
  {
   "cell_type": "code",
   "execution_count": 6,
   "metadata": {
    "collapsed": false
   },
   "outputs": [
    {
     "name": "stdout",
     "output_type": "stream",
     "text": [
      "Hello, world\n",
      "Hi, Michael, you have $1000000.\n"
     ]
    }
   ],
   "source": [
    "print('Hello, %s' % 'world')\n",
    "print('Hi, %s, you have $%d.' % ('Michael', 1000000))"
   ]
  },
  {
   "cell_type": "markdown",
   "metadata": {},
   "source": [
    "### 1.4.2 格式化整数和浮点数还可以指定是否补0和整数与小数的位数："
   ]
  },
  {
   "cell_type": "code",
   "execution_count": 7,
   "metadata": {
    "collapsed": false
   },
   "outputs": [
    {
     "name": "stdout",
     "output_type": "stream",
     "text": [
      " 3-01\n",
      "3.14\n"
     ]
    }
   ],
   "source": [
    "print('%2d-%02d' % (3, 1))\n",
    "print('%.2f' % 3.1415926)"
   ]
  }
 ],
 "metadata": {
  "kernelspec": {
   "display_name": "Python 3",
   "language": "python",
   "name": "python3"
  },
  "language_info": {
   "codemirror_mode": {
    "name": "ipython",
    "version": 3.0
   },
   "file_extension": ".py",
   "mimetype": "text/x-python",
   "name": "python",
   "nbconvert_exporter": "python",
   "pygments_lexer": "ipython3",
   "version": "3.6.0"
  },
  "toc": {
   "colors": {
    "hover_highlight": "#DAA520",
    "running_highlight": "#FF0000",
    "selected_highlight": "#FFD700"
   },
   "moveMenuLeft": true,
   "nav_menu": {
    "height": "202px",
    "width": "252px"
   },
   "navigate_menu": true,
   "number_sections": false,
   "sideBar": true,
   "threshold": 4.0,
   "toc_cell": true,
   "toc_section_display": "block",
   "toc_window_display": true,
   "widenNotebook": false
  }
 },
 "nbformat": 4,
 "nbformat_minor": 0
}