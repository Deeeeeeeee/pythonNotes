{
 "cells": [
  {
   "cell_type": "markdown",
   "metadata": {
    "toc": "true"
   },
   "source": [
    "# Table of Contents\n",
    " <p><div class=\"lev1 toc-item\"><a href=\"#list,-tuple,-dict-and-set----列表和元组\" data-toc-modified-id=\"list,-tuple,-dict-and-set----列表和元组-1\"><span class=\"toc-item-num\">1&nbsp;&nbsp;</span>list, tuple, dict and set -- 列表和元组</a></div><div class=\"lev2 toc-item\"><a href=\"#1-list\" data-toc-modified-id=\"1-list-11\"><span class=\"toc-item-num\">1.1&nbsp;&nbsp;</span>1 list</a></div><div class=\"lev3 toc-item\"><a href=\"#1.1-print-list-classmate,-and-get-the-length-of-it-by-using-len()\" data-toc-modified-id=\"1.1-print-list-classmate,-and-get-the-length-of-it-by-using-len()-111\"><span class=\"toc-item-num\">1.1.1&nbsp;&nbsp;</span>1.1 print list classmate, and get the length of it by using len()</a></div><div class=\"lev3 toc-item\"><a href=\"#1.2-用索引来访问list中每一个位置的元素，记得索引是从0开始的\" data-toc-modified-id=\"1.2-用索引来访问list中每一个位置的元素，记得索引是从0开始的-112\"><span class=\"toc-item-num\">1.1.2&nbsp;&nbsp;</span>1.2 用索引来访问list中每一个位置的元素，记得索引是从0开始的</a></div><div class=\"lev3 toc-item\"><a href=\"#1.3-用-1做索引，直接获取最后一个元素，以此类推，可以获取倒数第2个、倒数第3个\" data-toc-modified-id=\"1.3-用-1做索引，直接获取最后一个元素，以此类推，可以获取倒数第2个、倒数第3个-113\"><span class=\"toc-item-num\">1.1.3&nbsp;&nbsp;</span>1.3 用-1做索引，直接获取最后一个元素，以此类推，可以获取倒数第2个、倒数第3个</a></div><div class=\"lev3 toc-item\"><a href=\"#1.4-list是一个可变的有序表，所以，可以用append函数往list中追加元素到末尾\" data-toc-modified-id=\"1.4-list是一个可变的有序表，所以，可以用append函数往list中追加元素到末尾-114\"><span class=\"toc-item-num\">1.1.4&nbsp;&nbsp;</span>1.4 list是一个可变的有序表，所以，可以用append函数往list中追加元素到末尾</a></div><div class=\"lev3 toc-item\"><a href=\"#1.5-把元素插入到指定的位置，比如索引号为1的位置\" data-toc-modified-id=\"1.5-把元素插入到指定的位置，比如索引号为1的位置-115\"><span class=\"toc-item-num\">1.1.5&nbsp;&nbsp;</span>1.5 把元素插入到指定的位置，比如索引号为1的位置</a></div><div class=\"lev3 toc-item\"><a href=\"#1.6-要删除list末尾的元素，用pop()方法\" data-toc-modified-id=\"1.6-要删除list末尾的元素，用pop()方法-116\"><span class=\"toc-item-num\">1.1.6&nbsp;&nbsp;</span>1.6 要删除list末尾的元素，用pop()方法</a></div><div class=\"lev3 toc-item\"><a href=\"#1.7-要删除指定位置(索引号)的元素，用pop(i)方法，这时候是从头开始数\" data-toc-modified-id=\"1.7-要删除指定位置(索引号)的元素，用pop(i)方法，这时候是从头开始数-117\"><span class=\"toc-item-num\">1.1.7&nbsp;&nbsp;</span>1.7 要删除指定位置(索引号)的元素，用pop(i)方法，这时候是从头开始数</a></div><div class=\"lev2 toc-item\"><a href=\"#2-dict\" data-toc-modified-id=\"2-dict-12\"><span class=\"toc-item-num\">1.2&nbsp;&nbsp;</span>2 dict</a></div><div class=\"lev3 toc-item\"><a href=\"#2.1-迭代\" data-toc-modified-id=\"2.1-迭代-121\"><span class=\"toc-item-num\">1.2.1&nbsp;&nbsp;</span>2.1 迭代</a></div><div class=\"lev4 toc-item\"><a href=\"#2.1.1-key迭代，因为dict的key存储方式不是顺序的，而是hash，所以输出并不是顺序的\" data-toc-modified-id=\"2.1.1-key迭代，因为dict的key存储方式不是顺序的，而是hash，所以输出并不是顺序的-1211\"><span class=\"toc-item-num\">1.2.1.1&nbsp;&nbsp;</span>2.1.1 key迭代，因为dict的key存储方式不是顺序的，而是hash，所以输出并不是顺序的</a></div><div class=\"lev4 toc-item\"><a href=\"#2.1.2-value迭代\" data-toc-modified-id=\"2.1.2-value迭代-1212\"><span class=\"toc-item-num\">1.2.1.2&nbsp;&nbsp;</span>2.1.2 value迭代</a></div><div class=\"lev4 toc-item\"><a href=\"#2.1.3-key,value同时迭代\" data-toc-modified-id=\"2.1.3-key,value同时迭代-1213\"><span class=\"toc-item-num\">1.2.1.3&nbsp;&nbsp;</span>2.1.3 key,value同时迭代</a></div><div class=\"lev2 toc-item\"><a href=\"#3-列表生成式\" data-toc-modified-id=\"3-列表生成式-13\"><span class=\"toc-item-num\">1.3&nbsp;&nbsp;</span>3 列表生成式</a></div><div class=\"lev3 toc-item\"><a href=\"#3.1-生成一个1~10的平方数list\" data-toc-modified-id=\"3.1-生成一个1~10的平方数list-131\"><span class=\"toc-item-num\">1.3.1&nbsp;&nbsp;</span>3.1 生成一个1~10的平方数list</a></div><div class=\"lev2 toc-item\"><a href=\"#4-生成器\" data-toc-modified-id=\"4-生成器-14\"><span class=\"toc-item-num\">1.4&nbsp;&nbsp;</span>4 生成器</a></div><div class=\"lev3 toc-item\"><a href=\"#4.1-create-a-generater-g:-g-=-(x-*-x-for-x-in-range(10))\" data-toc-modified-id=\"4.1-create-a-generater-g:-g-=-(x-*-x-for-x-in-range(10))-141\"><span class=\"toc-item-num\">1.4.1&nbsp;&nbsp;</span>4.1 create a generater g: g = (x * x for x in range(10))</a></div><div class=\"lev3 toc-item\"><a href=\"#4.2-生成器可以被next()函数调用，不断返回下一个值\" data-toc-modified-id=\"4.2-生成器可以被next()函数调用，不断返回下一个值-142\"><span class=\"toc-item-num\">1.4.2&nbsp;&nbsp;</span>4.2 生成器可以被next()函数调用，不断返回下一个值</a></div><div class=\"lev3 toc-item\"><a href=\"#4.3-当next()调用完了，没有下一个值，就会终止。\" data-toc-modified-id=\"4.3-当next()调用完了，没有下一个值，就会终止。-143\"><span class=\"toc-item-num\">1.4.3&nbsp;&nbsp;</span>4.3 当next()调用完了，没有下一个值，就会终止。</a></div><div class=\"lev3 toc-item\"><a href=\"#4.4-因为他也是可迭代对象，因此可以用for迭代\" data-toc-modified-id=\"4.4-因为他也是可迭代对象，因此可以用for迭代-144\"><span class=\"toc-item-num\">1.4.4&nbsp;&nbsp;</span>4.4 因为他也是可迭代对象，因此可以用for迭代</a></div><div class=\"lev3 toc-item\"><a href=\"#4.5-Python的for循环本质上就是通过不断调用next()函数实现的\" data-toc-modified-id=\"4.5-Python的for循环本质上就是通过不断调用next()函数实现的-145\"><span class=\"toc-item-num\">1.4.5&nbsp;&nbsp;</span>4.5 Python的for循环本质上就是通过不断调用next()函数实现的</a></div>"
   ]
  },
  {
   "cell_type": "markdown",
   "metadata": {},
   "source": [
    "# list, tuple, dict and set -- 列表和元组"
   ]
  },
  {
   "cell_type": "markdown",
   "metadata": {},
   "source": [
    "## 1 list"
   ]
  },
  {
   "cell_type": "markdown",
   "metadata": {},
   "source": [
    "### 1.1 print list classmate, and get the length of it by using len()"
   ]
  },
  {
   "cell_type": "code",
   "execution_count": 19,
   "metadata": {
    "collapsed": true
   },
   "outputs": [],
   "source": [
    "classmates = ['Michael', 'Bob', 'Tracy']"
   ]
  },
  {
   "cell_type": "code",
   "execution_count": 20,
   "metadata": {
    "collapsed": false
   },
   "outputs": [
    {
     "name": "stdout",
     "output_type": "stream",
     "text": [
      "classmate: ['Michael', 'Bob', 'Tracy']\n",
      "there are 3 member in classmates\n",
      "\n"
     ]
    }
   ],
   "source": [
    "print('classmate:', classmates)\n",
    "print('there are %d member in classmates\\n' % len(classmates))"
   ]
  },
  {
   "cell_type": "markdown",
   "metadata": {},
   "source": [
    "### 1.2 用索引来访问list中每一个位置的元素，记得索引是从0开始的"
   ]
  },
  {
   "cell_type": "code",
   "execution_count": 21,
   "metadata": {
    "collapsed": false
   },
   "outputs": [
    {
     "name": "stdout",
     "output_type": "stream",
     "text": [
      "NO.0:Michael, NO.1:Bob, NO.2:Tracy\n"
     ]
    }
   ],
   "source": [
    "print('NO.0:%s, NO.1:%s, NO.2:%s' % (classmates[0], classmates[1], classmates[2]))"
   ]
  },
  {
   "cell_type": "markdown",
   "metadata": {},
   "source": [
    "### 1.3 用-1做索引，直接获取最后一个元素，以此类推，可以获取倒数第2个、倒数第3个"
   ]
  },
  {
   "cell_type": "code",
   "execution_count": 22,
   "metadata": {
    "collapsed": false
   },
   "outputs": [
    {
     "name": "stdout",
     "output_type": "stream",
     "text": [
      "Tracy\n",
      "Bob\n",
      "Michael\n"
     ]
    }
   ],
   "source": [
    "print(classmates[-1])\n",
    "print(classmates[-2])\n",
    "print(classmates[-3])"
   ]
  },
  {
   "cell_type": "markdown",
   "metadata": {},
   "source": [
    "### 1.4 list是一个可变的有序表，所以，可以用append函数往list中追加元素到末尾"
   ]
  },
  {
   "cell_type": "code",
   "execution_count": 23,
   "metadata": {
    "collapsed": false
   },
   "outputs": [
    {
     "name": "stdout",
     "output_type": "stream",
     "text": [
      "before append Adam:  ['Michael', 'Bob', 'Tracy']\n",
      "after append Adam:  ['Michael', 'Bob', 'Tracy', 'Adam']\n"
     ]
    }
   ],
   "source": [
    "print('before append Adam: ', classmates)\n",
    "classmates.append('Adam')\n",
    "print('after append Adam: ',classmates)"
   ]
  },
  {
   "cell_type": "markdown",
   "metadata": {},
   "source": [
    "### 1.5 把元素插入到指定的位置，比如索引号为1的位置"
   ]
  },
  {
   "cell_type": "code",
   "execution_count": 24,
   "metadata": {
    "collapsed": false
   },
   "outputs": [
    {
     "name": "stdout",
     "output_type": "stream",
     "text": [
      "before insert Jack to the [1] position:  ['Michael', 'Bob', 'Tracy', 'Adam']\n",
      "after insert Jack to the [1] position:  ['Michael', 'Jack', 'Bob', 'Tracy', 'Adam']\n"
     ]
    }
   ],
   "source": [
    "print('before insert Jack to the [1] position: ', classmates)\n",
    "classmates.insert(1, 'Jack')\n",
    "print('after insert Jack to the [1] position: ', classmates)"
   ]
  },
  {
   "cell_type": "markdown",
   "metadata": {},
   "source": [
    "### 1.6 要删除list末尾的元素，用pop()方法"
   ]
  },
  {
   "cell_type": "code",
   "execution_count": 25,
   "metadata": {
    "collapsed": false
   },
   "outputs": [
    {
     "name": "stdout",
     "output_type": "stream",
     "text": [
      "pop the last member 'Adam'\n",
      "['Michael', 'Jack', 'Bob', 'Tracy']\n"
     ]
    }
   ],
   "source": [
    "print('pop the last member \\'%s\\'' % classmates.pop())\n",
    "print(classmates)"
   ]
  },
  {
   "cell_type": "markdown",
   "metadata": {},
   "source": [
    "### 1.7 要删除指定位置(索引号)的元素，用pop(i)方法，这时候是从头开始数"
   ]
  },
  {
   "cell_type": "code",
   "execution_count": 26,
   "metadata": {
    "collapsed": false
   },
   "outputs": [
    {
     "name": "stdout",
     "output_type": "stream",
     "text": [
      "pop the NO.2 member 'Jack'\n",
      "['Michael', 'Bob', 'Tracy']\n"
     ]
    }
   ],
   "source": [
    "i = 1\n",
    "print('pop the NO.%d member \\'%s\\'' % (1+i, classmates.pop(i)))\n",
    "print(classmates)"
   ]
  },
  {
   "cell_type": "markdown",
   "metadata": {},
   "source": [
    "## 2 dict"
   ]
  },
  {
   "cell_type": "markdown",
   "metadata": {},
   "source": [
    "### 2.1 迭代"
   ]
  },
  {
   "cell_type": "markdown",
   "metadata": {},
   "source": [
    "#### 2.1.1 key迭代，因为dict的key存储方式不是顺序的，而是hash，所以输出并不是顺序的"
   ]
  },
  {
   "cell_type": "code",
   "execution_count": 30,
   "metadata": {
    "collapsed": true
   },
   "outputs": [],
   "source": [
    "d = {'a': 1, 'b': 2, 'c': 3, 'd': 4}"
   ]
  },
  {
   "cell_type": "code",
   "execution_count": 31,
   "metadata": {
    "collapsed": false
   },
   "outputs": [
    {
     "name": "stdout",
     "output_type": "stream",
     "text": [
      "print dict d: {'a': 1, 'b': 2, 'c': 3, 'd': 4}\n"
     ]
    }
   ],
   "source": [
    "print('print dict d:', d)"
   ]
  },
  {
   "cell_type": "code",
   "execution_count": 32,
   "metadata": {
    "collapsed": false
   },
   "outputs": [
    {
     "name": "stdout",
     "output_type": "stream",
     "text": [
      "a 1\n",
      "b 2\n",
      "c 3\n",
      "d 4\n"
     ]
    }
   ],
   "source": [
    "for k in d:\n",
    "    print(k, d[k])"
   ]
  },
  {
   "cell_type": "markdown",
   "metadata": {},
   "source": [
    "#### 2.1.2 value迭代"
   ]
  },
  {
   "cell_type": "code",
   "execution_count": 33,
   "metadata": {
    "collapsed": false
   },
   "outputs": [
    {
     "name": "stdout",
     "output_type": "stream",
     "text": [
      "1\n",
      "2\n",
      "3\n",
      "4\n"
     ]
    }
   ],
   "source": [
    "for v in d.values():\n",
    "    print(v)"
   ]
  },
  {
   "cell_type": "markdown",
   "metadata": {},
   "source": [
    "#### 2.1.3 key,value同时迭代"
   ]
  },
  {
   "cell_type": "code",
   "execution_count": 34,
   "metadata": {
    "collapsed": false
   },
   "outputs": [
    {
     "name": "stdout",
     "output_type": "stream",
     "text": [
      "a 1\n",
      "b 2\n",
      "c 3\n",
      "d 4\n"
     ]
    }
   ],
   "source": [
    "for k, v in d.items():\n",
    "    print(k, v)"
   ]
  },
  {
   "cell_type": "markdown",
   "metadata": {},
   "source": [
    "##  3 列表生成式"
   ]
  },
  {
   "cell_type": "markdown",
   "metadata": {},
   "source": [
    "### 3.1 生成一个1~10的平方数list"
   ]
  },
  {
   "cell_type": "code",
   "execution_count": 35,
   "metadata": {
    "collapsed": false
   },
   "outputs": [
    {
     "name": "stdout",
     "output_type": "stream",
     "text": [
      "[1, 4, 9, 16, 25, 36, 49, 64, 81, 100]\n"
     ]
    }
   ],
   "source": [
    "print([x*x for x in range(1, 11)])"
   ]
  },
  {
   "cell_type": "markdown",
   "metadata": {},
   "source": [
    "## 4 生成器"
   ]
  },
  {
   "cell_type": "markdown",
   "metadata": {},
   "source": [
    "### 4.1 create a generater g: g = (x * x for x in range(10))"
   ]
  },
  {
   "cell_type": "code",
   "execution_count": 36,
   "metadata": {
    "collapsed": true
   },
   "outputs": [],
   "source": [
    "g = (x * x for x in range(10))"
   ]
  },
  {
   "cell_type": "markdown",
   "metadata": {},
   "source": [
    "### 4.2 生成器可以被next()函数调用，不断返回下一个值"
   ]
  },
  {
   "cell_type": "code",
   "execution_count": 37,
   "metadata": {
    "collapsed": false
   },
   "outputs": [
    {
     "name": "stdout",
     "output_type": "stream",
     "text": [
      "0 1 4 9 16 25 36 49 64 81\n"
     ]
    }
   ],
   "source": [
    "print(next(g), next(g), next(g), next(g), next(g), next(g), next(g), next(g), next(g), next(g))"
   ]
  },
  {
   "cell_type": "markdown",
   "metadata": {},
   "source": [
    "### 4.3 当next()调用完了，没有下一个值，就会终止。"
   ]
  },
  {
   "cell_type": "code",
   "execution_count": 39,
   "metadata": {
    "collapsed": true
   },
   "outputs": [],
   "source": [
    "for i in g:\n",
    "    print(i)"
   ]
  },
  {
   "cell_type": "markdown",
   "metadata": {},
   "source": [
    "### 4.4 因为他也是可迭代对象，因此可以用for迭代"
   ]
  },
  {
   "cell_type": "code",
   "execution_count": 40,
   "metadata": {
    "collapsed": true
   },
   "outputs": [],
   "source": [
    "g = (x * x for x in range(10))"
   ]
  },
  {
   "cell_type": "code",
   "execution_count": 41,
   "metadata": {
    "collapsed": false
   },
   "outputs": [
    {
     "name": "stdout",
     "output_type": "stream",
     "text": [
      "0\n",
      "1\n",
      "4\n",
      "9\n",
      "16\n",
      "25\n",
      "36\n",
      "49\n",
      "64\n",
      "81\n"
     ]
    }
   ],
   "source": [
    "for i in g:\n",
    "    print(i)"
   ]
  },
  {
   "cell_type": "markdown",
   "metadata": {},
   "source": [
    "> \n",
    "* 凡是可作用于for循环的对象都是Iterable（可迭代）类型\n",
    "* 凡是可作用于next()函数的对象都是Iterator（迭代器）类型，它们表示一个惰性计算的序列\n",
    "* 集合数据类型如list、dict、str等是Iterable但不是Iterator，不过可以通过iter()函数获得一个Iterator对象"
   ]
  },
  {
   "cell_type": "markdown",
   "metadata": {},
   "source": [
    "### 4.5 Python的for循环本质上就是通过不断调用next()函数实现的"
   ]
  },
  {
   "cell_type": "code",
   "execution_count": 42,
   "metadata": {
    "collapsed": false
   },
   "outputs": [
    {
     "name": "stdout",
     "output_type": "stream",
     "text": [
      "1\n",
      "2\n",
      "3\n",
      "4\n",
      "5\n"
     ]
    }
   ],
   "source": [
    "for x in [1, 2, 3, 4, 5]:\n",
    "    print(x)"
   ]
  },
  {
   "cell_type": "markdown",
   "metadata": {},
   "source": [
    "上式完全等价于"
   ]
  },
  {
   "cell_type": "code",
   "execution_count": 43,
   "metadata": {
    "collapsed": false
   },
   "outputs": [
    {
     "name": "stdout",
     "output_type": "stream",
     "text": [
      "1\n",
      "2\n",
      "3\n",
      "4\n",
      "5\n"
     ]
    }
   ],
   "source": [
    "it = iter([1, 2, 3, 4, 5])  # 首先获得Iterator对象\n",
    "while True:  # 循环\n",
    "    try:\n",
    "        x = next(it)  # 获得下一个值:\n",
    "        print(x)\n",
    "    except StopIteration:  # 遇到StopIteration就退出循环\n",
    "        break"
   ]
  }
 ],
 "metadata": {
  "kernelspec": {
   "display_name": "Python 3",
   "language": "python",
   "name": "python3"
  },
  "language_info": {
   "codemirror_mode": {
    "name": "ipython",
    "version": 3.0
   },
   "file_extension": ".py",
   "mimetype": "text/x-python",
   "name": "python",
   "nbconvert_exporter": "python",
   "pygments_lexer": "ipython3",
   "version": "3.6.0"
  },
  "toc": {
   "colors": {
    "hover_highlight": "#DAA520",
    "running_highlight": "#FF0000",
    "selected_highlight": "#FFD700"
   },
   "moveMenuLeft": true,
   "nav_menu": {
    "height": "422px",
    "width": "252px"
   },
   "navigate_menu": true,
   "number_sections": false,
   "sideBar": true,
   "threshold": 4.0,
   "toc_cell": true,
   "toc_position": {
    "height": "682px",
    "left": "0px",
    "right": "1264.8px",
    "top": "106px",
    "width": "212px"
   },
   "toc_section_display": "block",
   "toc_window_display": true,
   "widenNotebook": false
  }
 },
 "nbformat": 4,
 "nbformat_minor": 0
}